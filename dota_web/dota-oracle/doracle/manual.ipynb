{
 "cells": [
  {
   "cell_type": "code",
   "execution_count": 1,
   "id": "bee9c2e3-d844-469d-a044-9df3c81a410e",
   "metadata": {},
   "outputs": [],
   "source": [
    "import json\n",
    "import zipfile\n",
    "import pandas as pd\n",
    "import numpy as np\n",
    "from tqdm import tqdm\n",
    "from joblib import dump\n",
    "import os\n",
    "import logging\n",
    "import time\n",
    "from datetime import datetime\n",
    "\n",
    "# Set up logging\n",
    "logging.basicConfig(\n",
    "    filename=\"data_loading_errors.log\",\n",
    "    level=logging.WARNING,\n",
    "    format=\"%(asctime)s - %(levelname)s - %(message)s\",\n",
    ")\n",
    "\n",
    "# File paths\n",
    "zip_path = \"data/dota_games.zip\"\n",
    "heroes_json_path = \"data/heroes.json\"\n",
    "model_save_dir = \"models/\"\n",
    "games_to_process = None  # Set to None for all games\n",
    "\n",
    "# Ensure model save directory exists\n",
    "os.makedirs(model_save_dir, exist_ok=True)\n"
   ]
  },
  {
   "cell_type": "code",
   "execution_count": 2,
   "id": "c30560cb-bf6a-47c8-9bff-86e7e372f95d",
   "metadata": {},
   "outputs": [],
   "source": [
    "class ManualLogisticRegression:\n",
    "    def __init__(self, learning_rate=0.01, epochs=1000):\n",
    "        self.learning_rate = learning_rate\n",
    "        self.epochs = epochs\n",
    "        self.weights = None\n",
    "        self.bias = 0\n",
    "        self.loss_history = []\n",
    "\n",
    "    @staticmethod\n",
    "    def sigmoid(z):\n",
    "        return 1 / (1 + np.exp(-z))\n",
    "\n",
    "    @staticmethod\n",
    "    def compute_loss(y_true, y_pred):\n",
    "        m = len(y_true)\n",
    "        loss = -np.sum(y_true * np.log(y_pred + 1e-9) + (1 - y_true) * np.log(1 - y_pred + 1e-9)) / m\n",
    "        return loss\n",
    "\n",
    "    def train(self, X, y):\n",
    "        n_samples, n_features = X.shape\n",
    "        self.weights = np.zeros(n_features)\n",
    "        self.bias = 0\n",
    "\n",
    "        for epoch in tqdm(range(self.epochs), desc=\"Training Model\"):\n",
    "            linear_pred = np.dot(X, self.weights) + self.bias\n",
    "            y_pred = self.sigmoid(linear_pred)\n",
    "\n",
    "            dw = np.dot(X.T, (y_pred - y)) / n_samples\n",
    "            db = np.sum(y_pred - y) / n_samples\n",
    "\n",
    "            self.weights -= self.learning_rate * dw\n",
    "            self.bias -= self.learning_rate * db\n",
    "\n",
    "            loss = self.compute_loss(y, y_pred)\n",
    "            self.loss_history.append(loss)\n",
    "\n",
    "    def predict_proba(self, X):\n",
    "        linear_pred = np.dot(X, self.weights) + self.bias\n",
    "        return self.sigmoid(linear_pred)\n",
    "\n",
    "    def predict(self, X):\n",
    "        probabilities = self.predict_proba(X)\n",
    "        return [1 if p > 0.5 else 0 for p in probabilities]\n",
    "\n",
    "    def save_model(self, X_columns, accuracy):\n",
    "        timestamp = datetime.now().strftime(\"%Y-%m-%d-%H-%M\")\n",
    "        final_loss = self.loss_history[-1]\n",
    "        filename = f\"manual_logreg_epoch{self.epochs}_acc{accuracy:.2f}_loss{final_loss:.2f}_{timestamp}.joblib\"\n",
    "        model_path = os.path.join(model_save_dir, filename)\n",
    "        dump({\"weights\": self.weights, \"bias\": self.bias, \"columns\": X_columns}, model_path)\n",
    "        print(f\"Model saved to {model_path}\")\n",
    "        return model_path\n"
   ]
  },
  {
   "cell_type": "code",
   "execution_count": 3,
   "id": "cc113c9c-5ca3-4fc4-b8d4-c9176e692d59",
   "metadata": {},
   "outputs": [],
   "source": [
    "class DraftAssistant:\n",
    "    def __init__(self, zip_path, heroes_json_path, games_to_process=None):\n",
    "        self.zip_path = zip_path\n",
    "        self.heroes_json_path = heroes_json_path\n",
    "        self.games_to_process = games_to_process\n",
    "        self.hero_mapping = None\n",
    "        self.X_columns = None\n",
    "        self.model = None\n",
    "        self.data = None\n",
    "\n",
    "    def load_hero_names(self):\n",
    "        with open(self.heroes_json_path, \"r\") as f:\n",
    "            heroes = json.load(f)\n",
    "        self.hero_mapping = {hero[\"id\"]: hero[\"api_name\"] for hero in heroes}\n",
    "        print(f\"Loaded {len(self.hero_mapping)} heroes.\")\n",
    "\n",
    "    def load_games(self):\n",
    "        X, y = [], []\n",
    "        with zipfile.ZipFile(self.zip_path, \"r\") as zip_file:\n",
    "            json_files = [name for name in zip_file.namelist() if name.endswith(\".json\")]\n",
    "            if self.games_to_process:\n",
    "                json_files = json_files[:self.games_to_process]\n",
    "\n",
    "            for file_name in tqdm(json_files, desc=\"Loading Games\"):\n",
    "                try:\n",
    "                    with zip_file.open(file_name, \"r\") as f:\n",
    "                        game_data = json.load(f)\n",
    "                        if \"result\" not in game_data or \"players\" not in game_data[\"result\"]:\n",
    "                            logging.warning(f\"Missing 'players' in {file_name}\")\n",
    "                            continue\n",
    "\n",
    "                        radiant_heroes = []\n",
    "                        dire_heroes = []\n",
    "\n",
    "                        for player in game_data[\"result\"][\"players\"]:\n",
    "                            if player[\"player_slot\"] < 128:\n",
    "                                radiant_heroes.append(player[\"hero_id\"])\n",
    "                            else:\n",
    "                                dire_heroes.append(player[\"hero_id\"])\n",
    "\n",
    "                        match_features = {f\"hero_{hero_id}\": 1 for hero_id in radiant_heroes}\n",
    "                        match_features.update({f\"hero_{hero_id}\": -1 for hero_id in dire_heroes})\n",
    "                        X.append(match_features)\n",
    "                        y.append(1 if game_data[\"result\"][\"radiant_win\"] else 0)\n",
    "\n",
    "                except (KeyError, json.JSONDecodeError, TypeError) as e:\n",
    "                    logging.warning(f\"Error processing {file_name}: {e}\")\n",
    "                    continue\n",
    "        self.data = (X, y)\n",
    "        print(f\"Loaded {len(y)} games.\")\n",
    "\n",
    "    def preprocess_data(self):\n",
    "        X_raw, y = self.data\n",
    "        df = pd.DataFrame(X_raw).fillna(0)\n",
    "        self.X_columns = df.columns\n",
    "        return df.values, np.array(y)\n",
    "\n",
    "    def train_model(self, X, y, learning_rate=0.05, epochs=500):\n",
    "        print(\"Training model...\")\n",
    "        self.model = ManualLogisticRegression(learning_rate=learning_rate, epochs=epochs)\n",
    "        self.model.train(X, y)\n",
    "        y_pred = self.model.predict(X)\n",
    "        accuracy = np.mean(y == y_pred)\n",
    "        print(f\"Training Accuracy: {accuracy:.2f}\")\n",
    "        return accuracy\n"
   ]
  },
  {
   "cell_type": "code",
   "execution_count": 4,
   "id": "2f08536d-fc11-495a-8c82-89491de9e8e0",
   "metadata": {},
   "outputs": [
    {
     "name": "stdout",
     "output_type": "stream",
     "text": [
      "Loaded 122 heroes.\n"
     ]
    }
   ],
   "source": [
    "assistant = DraftAssistant(zip_path, heroes_json_path, games_to_process)\n",
    "assistant.load_hero_names()\n"
   ]
  },
  {
   "cell_type": "code",
   "execution_count": null,
   "id": "596a4bf9-3b32-4cba-aae8-7e255c8e0eaa",
   "metadata": {},
   "outputs": [
    {
     "name": "stderr",
     "output_type": "stream",
     "text": [
      "Loading Games:  16%|█████████▊                                                  | 382778/2338043 [01:28<07:18, 4461.96it/s]"
     ]
    }
   ],
   "source": [
    "assistant.load_games()"
   ]
  },
  {
   "cell_type": "code",
   "execution_count": null,
   "id": "8b41a571-95d0-4b9e-aac8-2ccb81437175",
   "metadata": {},
   "outputs": [],
   "source": [
    "X, y = assistant.preprocess_data()\n",
    "print(f\"Processed data shape: {X.shape}, Target size: {len(y)}\")\n"
   ]
  },
  {
   "cell_type": "code",
   "execution_count": null,
   "id": "c833f84a-d586-4648-81e3-1fe97e67e132",
   "metadata": {},
   "outputs": [],
   "source": [
    "accuracy = assistant.train_model(X, y, learning_rate=0.05, epochs=500)\n",
    "assistant.model.save_model(assistant.X_columns, accuracy)\n"
   ]
  },
  {
   "cell_type": "code",
   "execution_count": null,
   "id": "5ee4aa3d-eb9b-44d7-a732-784818c5a3fe",
   "metadata": {},
   "outputs": [],
   "source": [
    "def predict_win_probability(model, radiant_heroes, dire_heroes, feature_columns):\n",
    "    draft = {f\"hero_{hero_id}\": 1 for hero_id in radiant_heroes}\n",
    "    draft.update({f\"hero_{hero_id}\": -1 for hero_id in dire_heroes})\n",
    "    draft_df = pd.DataFrame([draft]).reindex(columns=feature_columns, fill_value=0)\n",
    "    return model.predict_proba(draft_df.values)[0]\n",
    "\n",
    "# Example draft\n",
    "radiant_heroes = [7, 9, 44]\n",
    "dire_heroes = [8, 4, 129]\n",
    "win_prob = predict_win_probability(assistant.model, radiant_heroes, dire_heroes, assistant.X_columns)\n",
    "print(f\"Win Probability for Radiant: {win_prob:.2f}\")\n"
   ]
  },
  {
   "cell_type": "code",
   "execution_count": null,
   "id": "951ed8e4-b361-4d35-b979-1828db56069c",
   "metadata": {},
   "outputs": [],
   "source": [
    "def recommend_next_hero(model, radiant_heroes, dire_heroes, feature_columns, hero_mapping):\n",
    "    max_prob = 0\n",
    "    best_hero = None\n",
    "\n",
    "    # Check all available heroes\n",
    "    available_heroes = set(hero_mapping.keys()) - set(radiant_heroes) - set(dire_heroes)\n",
    "    for hero_id in available_heroes:\n",
    "        test_radiant = radiant_heroes + [hero_id]\n",
    "        win_prob = predict_win_probability(model, test_radiant, dire_heroes, feature_columns)\n",
    "        if win_prob > max_prob:\n",
    "            max_prob = win_prob\n",
    "            best_hero = hero_id\n",
    "\n",
    "    return best_hero, max_prob\n",
    "\n",
    "# Example usage\n",
    "best_hero, updated_win_prob = recommend_next_hero(\n",
    "    assistant.model, radiant_heroes, dire_heroes, assistant.X_columns, assistant.hero_mapping\n",
    ")\n",
    "print(f\"Recommended Hero: {assistant.hero_mapping[best_hero]} (Updated Win Probability: {updated_win_prob:.2f})\")\n"
   ]
  }
 ],
 "metadata": {
  "kernelspec": {
   "display_name": "Python 3 (ipykernel)",
   "language": "python",
   "name": "python3"
  },
  "language_info": {
   "codemirror_mode": {
    "name": "ipython",
    "version": 3
   },
   "file_extension": ".py",
   "mimetype": "text/x-python",
   "name": "python",
   "nbconvert_exporter": "python",
   "pygments_lexer": "ipython3",
   "version": "3.12.7"
  }
 },
 "nbformat": 4,
 "nbformat_minor": 5
}
