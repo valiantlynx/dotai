{
 "cells": [
  {
   "cell_type": "code",
   "execution_count": 1,
   "id": "3242bb3f-b0d2-477d-a533-125c74d397c7",
   "metadata": {},
   "outputs": [],
   "source": [
    "import json\n",
    "import zipfile\n",
    "import pandas as pd\n",
    "import numpy as np\n",
    "from tqdm import tqdm\n",
    "from sklearn.linear_model import LogisticRegression\n",
    "from sklearn.model_selection import train_test_split\n",
    "from sklearn.metrics import accuracy_score\n",
    "from joblib import dump, load  # For saving and loading models\n",
    "import os\n",
    "import logging\n"
   ]
  },
  {
   "cell_type": "code",
   "execution_count": 3,
   "id": "df73a864-f152-4431-86c6-e61f64285665",
   "metadata": {},
   "outputs": [],
   "source": [
    "\n",
    "# Set up logging\n",
    "logging.basicConfig(\n",
    "    filename=\"data_loading_errors.log\",\n",
    "    level=logging.WARNING,\n",
    "    format=\"%(asctime)s - %(levelname)s - %(message)s\",\n",
    ")\n",
    "# Paths\n",
    "zip_path = \"data/dota_games.zip\"\n",
    "heroes_json_path = \"data/heroes.json\"\n",
    "model_path = \"trained_draft_model.joblib\"  # Path to save/load the trained model\n",
    "games_to_process = None  # Set to None for all\n",
    "\n"
   ]
  },
  {
   "cell_type": "code",
   "execution_count": 4,
   "id": "47ce6c03-2647-437d-ace8-7c4a27e71576",
   "metadata": {},
   "outputs": [],
   "source": [
    "\n",
    "class HeroStats:\n",
    "    def __init__(self, hero_mapping, model, X_columns):\n",
    "        self.hero_mapping = hero_mapping\n",
    "        self.model = model\n",
    "        self.X_columns = X_columns\n",
    "\n",
    "    def predict_win_probability(self, radiant_heroes, dire_heroes):\n",
    "        \"\"\"Predict the win probability for a draft.\"\"\"\n",
    "        draft = {\"hero_\" + str(hero_id): 1 for hero_id in radiant_heroes}\n",
    "        draft.update({\"hero_\" + str(hero_id): -1 for hero_id in dire_heroes})\n",
    "        draft_df = pd.DataFrame([draft]).reindex(\n",
    "            columns=self.X_columns, fill_value=0)\n",
    "        probability = self.model.predict_proba(draft_df)[0][1]\n",
    "        return probability\n",
    "\n",
    "    def recommend_next_hero(self, radiant_heroes, dire_heroes):\n",
    "        \"\"\"Recommend the next best hero for Radiant to maximize win probability.\"\"\"\n",
    "        max_prob = 0\n",
    "        best_hero = None\n",
    "\n",
    "        available_heroes = (\n",
    "            set(self.hero_mapping.keys()) -\n",
    "            set(radiant_heroes) - set(dire_heroes)\n",
    "        )\n",
    "        for hero_id in available_heroes:\n",
    "            test_radiant = radiant_heroes + [hero_id]\n",
    "            win_prob = self.predict_win_probability(test_radiant, dire_heroes)\n",
    "            if win_prob > max_prob:\n",
    "                max_prob = win_prob\n",
    "                best_hero = hero_id\n",
    "\n",
    "        return best_hero, max_prob\n"
   ]
  },
  {
   "cell_type": "code",
   "execution_count": 5,
   "id": "df5201be-ccb3-45b7-bb49-efac1358a550",
   "metadata": {},
   "outputs": [],
   "source": [
    "\n",
    "\n",
    "class DraftAssistant:\n",
    "    def __init__(self, zip_path, heroes_json_path, model_path, games_to_process=None):\n",
    "        self.zip_path = zip_path\n",
    "        self.heroes_json_path = heroes_json_path\n",
    "        self.model_path = model_path\n",
    "        self.games_to_process = games_to_process\n",
    "        self.hero_mapping = self.load_hero_names()\n",
    "        self.model = None\n",
    "        self.X_columns = None\n",
    "\n",
    "    def load_hero_names(self):\n",
    "        with open(self.heroes_json_path, \"r\") as f:\n",
    "            heroes = json.load(f)\n",
    "        return {hero[\"id\"]: hero[\"api_name\"] for hero in heroes}\n",
    "\n",
    "    def load_games(self):\n",
    "        X = []\n",
    "        y = []\n",
    "\n",
    "        with zipfile.ZipFile(self.zip_path, \"r\") as zip_file:\n",
    "            json_files = [\n",
    "                name for name in zip_file.namelist() if name.endswith(\".json\")\n",
    "            ]\n",
    "            if self.games_to_process:\n",
    "                json_files = json_files[: self.games_to_process]\n",
    "\n",
    "            for file_name in tqdm(json_files, desc=\"Loading Games\"):\n",
    "                try:\n",
    "                    with zip_file.open(file_name, \"r\") as f:\n",
    "                        game_data = json.load(f)\n",
    "\n",
    "                        # Skip games without 'players' field\n",
    "                        if (\n",
    "                            \"result\" not in game_data\n",
    "                            or \"players\" not in game_data[\"result\"]\n",
    "                        ):\n",
    "                            logging.warning(\n",
    "                                f\"Missing 'players' in {file_name}\")\n",
    "                            continue\n",
    "\n",
    "                        radiant_heroes = []\n",
    "                        dire_heroes = []\n",
    "\n",
    "                        for player in game_data[\"result\"][\"players\"]:\n",
    "                            if player[\"player_slot\"] < 128:  # Radiant team\n",
    "                                radiant_heroes.append(player[\"hero_id\"])\n",
    "                            else:  # Dire team\n",
    "                                dire_heroes.append(player[\"hero_id\"])\n",
    "\n",
    "                        # Create a single feature vector (radiant heroes as +1, dire heroes as -1)\n",
    "                        match_features = {\n",
    "                            \"hero_\" + str(hero_id): 1 for hero_id in radiant_heroes\n",
    "                        }\n",
    "                        match_features.update(\n",
    "                            {\"hero_\" + str(hero_id): -\n",
    "                             1 for hero_id in dire_heroes}\n",
    "                        )\n",
    "                        X.append(match_features)\n",
    "                        y.append(1 if game_data[\"result\"]\n",
    "                                 [\"radiant_win\"] else 0)\n",
    "\n",
    "                except (KeyError, json.JSONDecodeError, TypeError) as e:\n",
    "                    logging.warning(f\"Error processing {file_name}: {e}\")\n",
    "                    continue\n",
    "\n",
    "        return X, y\n",
    "\n",
    "    def preprocess_data(self, X):\n",
    "        df = pd.DataFrame(X).fillna(0)\n",
    "        self.X_columns = df.columns\n",
    "        return df\n",
    "\n",
    "    def train_and_save_model(self):\n",
    "        print(\"Loading game data...\")\n",
    "        X_raw, y = self.load_games()\n",
    "\n",
    "        print(\"Preprocessing data...\")\n",
    "        X = self.preprocess_data(X_raw)\n",
    "\n",
    "        print(\"Training model...\")\n",
    "        X_train, X_test, y_train, y_test = train_test_split(\n",
    "            X, y, test_size=0.2, random_state=42\n",
    "        )\n",
    "        model = LogisticRegression(max_iter=1000)\n",
    "        model.fit(X_train, y_train)\n",
    "\n",
    "        # Evaluate model\n",
    "        y_pred = model.predict(X_test)\n",
    "        accuracy = accuracy_score(y_test, y_pred)\n",
    "        print(f\"Model Accuracy: {accuracy:.2f}\")\n",
    "\n",
    "        # Save the model\n",
    "        dump((model, self.X_columns), self.model_path)\n",
    "        print(f\"Model saved to {self.model_path}\")\n",
    "\n",
    "    def load_model(self):\n",
    "        \"\"\"Load the saved model.\"\"\"\n",
    "        if os.path.exists(self.model_path):\n",
    "            print(f\"Loading model from {self.model_path}...\")\n",
    "            self.model, self.X_columns = load(self.model_path)\n",
    "            return HeroStats(self.hero_mapping, self.model, self.X_columns)\n",
    "        else:\n",
    "            print(\"No saved model found. Train a model first.\")\n",
    "            return None\n",
    "\n"
   ]
  },
  {
   "cell_type": "code",
   "execution_count": 6,
   "id": "79d506fd-fe62-481f-bcae-92039cd8f202",
   "metadata": {},
   "outputs": [],
   "source": [
    "    assistant = DraftAssistant(\n",
    "        zip_path, heroes_json_path, model_path, games_to_process)\n"
   ]
  },
  {
   "cell_type": "code",
   "execution_count": 7,
   "id": "f459b253-ca6f-41a6-bf2f-cd63a7fcbd4f",
   "metadata": {},
   "outputs": [
    {
     "name": "stdout",
     "output_type": "stream",
     "text": [
      "Loading game data...\n"
     ]
    },
    {
     "name": "stderr",
     "output_type": "stream",
     "text": [
      "Loading Games: 100%|███████████████████████████████████████████████████████████| 2338043/2338043 [19:43<00:00, 1975.53it/s]\n"
     ]
    },
    {
     "name": "stdout",
     "output_type": "stream",
     "text": [
      "Preprocessing data...\n",
      "Training model...\n",
      "Model Accuracy: 0.60\n",
      "Model saved to trained_draft_model.joblib\n"
     ]
    }
   ],
   "source": [
    "    # Check if model exists, otherwise train and save\n",
    "    if not os.path.exists(model_path):\n",
    "        assistant.train_and_save_model()\n"
   ]
  },
  {
   "cell_type": "code",
   "execution_count": 10,
   "id": "40f18356-b80a-4593-ab51-766ea750fdbe",
   "metadata": {},
   "outputs": [
    {
     "name": "stdout",
     "output_type": "stream",
     "text": [
      "Loading model from trained_draft_model.joblib...\n"
     ]
    }
   ],
   "source": [
    "    # Load the trained model\n",
    "    hero_stats = assistant.load_model()\n"
   ]
  },
  {
   "cell_type": "code",
   "execution_count": 18,
   "id": "9f308be8-0a4a-4a48-b9d2-092b23d96b86",
   "metadata": {},
   "outputs": [
    {
     "name": "stdout",
     "output_type": "stream",
     "text": [
      "Win Probability for Radiant: 0.51\n",
      "Recommended Next Hero: broodmother (Win Probability: 0.65)\n"
     ]
    }
   ],
   "source": [
    " if hero_stats:\n",
    "        # Example draft\n",
    "        radiant_heroes = [7, 9, 44, 45]  # Partial radiant draft\n",
    "        dire_heroes = [8, 4, 129, 2]  # Dire team draft\n",
    "\n",
    "        # Predict win probability\n",
    "        win_prob = hero_stats.predict_win_probability(\n",
    "            radiant_heroes, dire_heroes)\n",
    "        print(f\"Win Probability for Radiant: {win_prob:.2f}\")\n",
    "\n",
    "        # Recommend next hero\n",
    "        next_hero, updated_prob = hero_stats.recommend_next_hero(\n",
    "            radiant_heroes, dire_heroes\n",
    "        )\n",
    "        print(\n",
    "            f\"Recommended Next Hero: {hero_stats.hero_mapping[next_hero]} (Win Probability: {\n",
    "                updated_prob:.2f})\"\n",
    "        )"
   ]
  },
  {
   "cell_type": "code",
   "execution_count": null,
   "id": "3ee5ddf6-d6ca-4438-b2be-f06e6bc6d25e",
   "metadata": {},
   "outputs": [],
   "source": [
    "\n",
    "# Main execution\n",
    "if __name__ == \"__main__\":\n",
    "    assistant = DraftAssistant(\n",
    "        zip_path, heroes_json_path, model_path, games_to_process)\n",
    "\n",
    "    # Check if model exists, otherwise train and save\n",
    "    if not os.path.exists(model_path):\n",
    "        assistant.train_and_save_model()\n",
    "\n",
    "    # Load the trained model\n",
    "    hero_stats = assistant.load_model()\n",
    "\n",
    "    if hero_stats:\n",
    "        # Example draft\n",
    "        radiant_heroes = [7, 9, 44]  # Partial radiant draft\n",
    "        dire_heroes = [8, 4, 129]  # Dire team draft\n",
    "\n",
    "        # Predict win probability\n",
    "        win_prob = hero_stats.predict_win_probability(\n",
    "            radiant_heroes, dire_heroes)\n",
    "        print(f\"Win Probability for Radiant: {win_prob:.2f}\")\n",
    "\n",
    "        # Recommend next hero\n",
    "        next_hero, updated_prob = hero_stats.recommend_next_hero(\n",
    "            radiant_heroes, dire_heroes\n",
    "        )\n",
    "        print(\n",
    "            f\"Recommended Next Hero: {hero_stats.hero_mapping[next_hero]} (Win Probability: {\n",
    "                updated_prob:.2f})\"\n",
    "        )\n"
   ]
  }
 ],
 "metadata": {
  "kernelspec": {
   "display_name": "Python 3 (ipykernel)",
   "language": "python",
   "name": "python3"
  },
  "language_info": {
   "codemirror_mode": {
    "name": "ipython",
    "version": 3
   },
   "file_extension": ".py",
   "mimetype": "text/x-python",
   "name": "python",
   "nbconvert_exporter": "python",
   "pygments_lexer": "ipython3",
   "version": "3.12.7"
  }
 },
 "nbformat": 4,
 "nbformat_minor": 5
}
